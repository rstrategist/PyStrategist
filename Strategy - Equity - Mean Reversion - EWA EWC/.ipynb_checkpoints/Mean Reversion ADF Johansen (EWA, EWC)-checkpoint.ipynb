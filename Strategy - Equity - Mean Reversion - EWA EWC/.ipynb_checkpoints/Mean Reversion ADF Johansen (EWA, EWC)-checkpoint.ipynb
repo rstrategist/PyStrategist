{
 "cells": [
  {
   "cell_type": "markdown",
   "metadata": {},
   "source": [
    "## Strategy - Mean Reversion of EWA and EWC ETFs (CADF Johansen Tests)\n",
    "   - EWA and EWC ETFs (Australian and Canadian equity markets)\n",
    "   - Individually these markets' price series are nonstionary.\n",
    "   - However, since both countries have commodity-linked economies we may find cointegration of a combined portfolio.\n",
    "   - Using various statistical tests (CADF and Johansen) we can check if this is the case.\n",
    "   - This is an implementation of examples 2.6-2.8 of Ernest chan's book Algorithmic Trading."
   ]
  },
  {
   "cell_type": "code",
   "execution_count": 1,
   "metadata": {},
   "outputs": [],
   "source": [
    "# Import the necessary libraries\n",
    "import sys\n",
    "sys.path.append('Functions')\n",
    "from functions import *\n",
    "import datetime"
   ]
  },
  {
   "cell_type": "markdown",
   "metadata": {},
   "source": [
    "### Download Data and Plot"
   ]
  },
  {
   "cell_type": "code",
   "execution_count": 2,
   "metadata": {},
   "outputs": [],
   "source": [
    "# Define period of analysis\n",
    "start = datetime.datetime(2012, 1, 1)\n",
    "end = datetime.datetime(2014, 1, 1)"
   ]
  },
  {
   "cell_type": "code",
   "execution_count": 3,
   "metadata": {},
   "outputs": [
    {
     "ename": "NameError",
     "evalue": "name 'yf' is not defined",
     "output_type": "error",
     "traceback": [
      "\u001b[0;31m---------------------------------------------------------------------------\u001b[0m",
      "\u001b[0;31mNameError\u001b[0m                                 Traceback (most recent call last)",
      "Input \u001b[0;32mIn [3]\u001b[0m, in \u001b[0;36m<cell line: 6>\u001b[0;34m()\u001b[0m\n\u001b[1;32m      1\u001b[0m \u001b[38;5;66;03m# Define period of analysis\u001b[39;00m\n\u001b[1;32m      2\u001b[0m \u001b[38;5;66;03m#start = datetime.datetime(2005, 1, 1)\u001b[39;00m\n\u001b[1;32m      3\u001b[0m \u001b[38;5;66;03m#end = datetime.datetime(2022, 6, 20)\u001b[39;00m\n\u001b[1;32m      4\u001b[0m \n\u001b[1;32m      5\u001b[0m \u001b[38;5;66;03m# Define securities to retrieve data for\u001b[39;00m\n\u001b[0;32m----> 6\u001b[0m ewa \u001b[38;5;241m=\u001b[39m \u001b[43myf\u001b[49m\u001b[38;5;241m.\u001b[39mdownload(\u001b[38;5;124m\"\u001b[39m\u001b[38;5;124mEWA\u001b[39m\u001b[38;5;124m\"\u001b[39m, start, end) \u001b[38;5;66;03m# iShares Australia ETF\u001b[39;00m\n\u001b[1;32m      7\u001b[0m ewc \u001b[38;5;241m=\u001b[39m yf\u001b[38;5;241m.\u001b[39mdownload(\u001b[38;5;124m\"\u001b[39m\u001b[38;5;124mEWC\u001b[39m\u001b[38;5;124m\"\u001b[39m, start, end) \u001b[38;5;66;03m# iShares Canada ETF\u001b[39;00m\n\u001b[1;32m      8\u001b[0m ige \u001b[38;5;241m=\u001b[39m yf\u001b[38;5;241m.\u001b[39mdownload(\u001b[38;5;124m\"\u001b[39m\u001b[38;5;124mIGE\u001b[39m\u001b[38;5;124m\"\u001b[39m, start, end) \u001b[38;5;66;03m# iShares North American Natural Resources ETF\u001b[39;00m\n",
      "\u001b[0;31mNameError\u001b[0m: name 'yf' is not defined"
     ]
    }
   ],
   "source": [
    "# Define period of analysis\n",
    "#start = datetime.datetime(2005, 1, 1)\n",
    "#end = datetime.datetime(2022, 6, 20)\n",
    "\n",
    "# Define securities to retrieve data for\n",
    "ewa = yf.download(\"EWA\", start, end) # iShares Australia ETF\n",
    "ewc = yf.download(\"EWC\", start, end) # iShares Canada ETF\n",
    "ige = yf.download(\"IGE\", start, end) # iShares North American Natural Resources ETF\n",
    "\n",
    "df = pd.DataFrame(index=ewa.index)\n",
    "df[\"EWA\"] = ewa[\"Adj Close\"]\n",
    "df[\"EWC\"] = ewc[\"Adj Close\"]\n",
    "df[\"IGE\"] = ige[\"Adj Close\"]\n",
    "\n",
    "# Plot the two time series\n",
    "print(color.BOLD + \"\\n Dates: Jan-2005 to Dec-2012\" + color.END)\n",
    "start = datetime.datetime(2005, 1, 1)\n",
    "end = datetime.datetime(2012, 12, 31)\n",
    "plot_price_series(df, \"EWA\", \"EWC\", start, end)\n",
    "\n",
    "print(color.BOLD + \"\\n Dates: Jan-2013 to Jun-2022\" + color.END)\n",
    "start = datetime.datetime(2013, 1, 1)\n",
    "end = datetime.datetime(2022, 6, 20)\n",
    "plot_price_series(df, \"EWA\", \"EWC\", start, end)\n",
    "\n",
    "# Display a scatter plot of the two time series\n",
    "start = datetime.datetime(2013, 1, 1)\n",
    "end = datetime.datetime(2022, 6, 20)\n",
    "plot_scatter_series(df, \"EWA\", \"EWC\")\n"
   ]
  },
  {
   "cell_type": "markdown",
   "metadata": {},
   "source": [
    "### Calculate optimal hedge ratio \"beta\""
   ]
  },
  {
   "cell_type": "code",
   "execution_count": 23,
   "metadata": {},
   "outputs": [
    {
     "name": "stdout",
     "output_type": "stream",
     "text": [
      "                            OLS Regression Results                            \n",
      "==============================================================================\n",
      "Dep. Variable:                    EWC   R-squared:                       0.579\n",
      "Model:                            OLS   Adj. R-squared:                  0.578\n",
      "Method:                 Least Squares   F-statistic:                     687.2\n",
      "Date:                Wed, 22 Jun 2022   Prob (F-statistic):           6.06e-96\n",
      "Time:                        00:29:32   Log-Likelihood:                -492.86\n",
      "No. Observations:                 502   AIC:                             989.7\n",
      "Df Residuals:                     500   BIC:                             998.2\n",
      "Df Model:                           1                                         \n",
      "Covariance Type:            nonrobust                                         \n",
      "==============================================================================\n",
      "                 coef    std err          t      P>|t|      [0.025      0.975]\n",
      "------------------------------------------------------------------------------\n",
      "const         14.3109      0.320     44.682      0.000      13.682      14.940\n",
      "EWA            0.5372      0.020     26.214      0.000       0.497       0.577\n",
      "==============================================================================\n",
      "Omnibus:                       19.998   Durbin-Watson:                   0.051\n",
      "Prob(Omnibus):                  0.000   Jarque-Bera (JB):               20.702\n",
      "Skew:                          -0.470   Prob(JB):                     3.20e-05\n",
      "Kurtosis:                       2.676   Cond. No.                         174.\n",
      "==============================================================================\n",
      "\n",
      "Notes:\n",
      "[1] Standard Errors assume that the covariance matrix of the errors is correctly specified.\n"
     ]
    }
   ],
   "source": [
    "# Calculate optimal hedge ratio \"beta\"\n",
    "# https://www.statsmodels.org/dev/generated/statsmodels.regression.linear_model.OLS.html\n",
    "start_date = '2006-04-04'\n",
    "end_date = '2022-06-20'\n",
    "df_ewa = df[\"EWA\"].loc[start_date:end_date]\n",
    "df_ewc = df[\"EWC\"].loc[start_date:end_date]\n",
    "\n",
    "x = sm.add_constant(df_ewa)\n",
    "model = sm.OLS(df_ewc,x)\n",
    "# Linear model with dependent variable EWC and independent variable EWA\n",
    "# Beta will provide the hedge ratio for EWA in the portfolio\n",
    "results = model.fit()\n",
    "print(results.summary())\n",
    "beta_hr = results.params[1]"
   ]
  },
  {
   "cell_type": "markdown",
   "metadata": {},
   "source": [
    "### Calculate and Plot Residuals of the Linear Combination"
   ]
  },
  {
   "cell_type": "code",
   "execution_count": 24,
   "metadata": {},
   "outputs": [
    {
     "name": "stdout",
     "output_type": "stream",
     "text": [
      "\n",
      " Dates: 2006-04-26 00:00:00 to 2022-06-20 00:00:00\n"
     ]
    },
    {
     "data": {
      "image/png": "[encoded data removed]",
      "text/plain": [
       "<Figure size 432x288 with 1 Axes>"
      ]
     },
     "metadata": {
      "needs_background": "light"
     },
     "output_type": "display_data"
    }
   ],
   "source": [
    "# Calculate the residuals of the linear combination\n",
    "df_res = df_ewc - beta_hr*df_ewa\n",
    "df1 = pd.DataFrame(df_ewa)\n",
    "df1['EWC'] = df_ewc\n",
    "df1['RES'] = df_res\n",
    "\n",
    "# Plot the residuals\n",
    "start = datetime.datetime(2006, 4, 26)\n",
    "end = datetime.datetime(2022, 6, 20)\n",
    "print(f\"\\n Dates: {start} to {end}\")\n",
    "plot_residuals(df1, start, end)"
   ]
  },
  {
   "cell_type": "markdown",
   "metadata": {},
   "source": [
    "### Calculate and Output the CADF Test on the Residuals"
   ]
  },
  {
   "cell_type": "code",
   "execution_count": 25,
   "metadata": {},
   "outputs": [
    {
     "name": "stdout",
     "output_type": "stream",
     "text": [
      "Augmented Dickey-Fuller Test Results:\n",
      "ADF Test Statistic       -2.201260\n",
      "P-Value                   0.205788\n",
      "# Lags Used               0.000000\n",
      "# Observations Used     501.000000\n",
      "Critical Value (1%)      -3.443470\n",
      "Critical Value (5%)      -2.867326\n",
      "Critical Value (10%)     -2.569852\n",
      "dtype: float64\n"
     ]
    }
   ],
   "source": [
    "# Calculate and output the CADF test on the residuals\n",
    "cadf = ts.adfuller(df1[\"RES\"],maxlag=1)\n",
    "#cadf = ts.coint(df[\"RES\"],maxlag=1)\n",
    "#https://www.statsmodels.org/stable/generated/statsmodels.tsa.stattools.coint.html\n",
    "dfResults = pd.Series(cadf[0:4], index=['ADF Test Statistic','P-Value','# Lags Used','# Observations Used'])\n",
    "# Add Critical Values\n",
    "for key,value in cadf[4].items():\n",
    "    dfResults['Critical Value (%s)'%key] = value\n",
    "print('Augmented Dickey-Fuller Test Results:')\n",
    "print(dfResults)"
   ]
  },
  {
   "cell_type": "markdown",
   "metadata": {},
   "source": [
    "### Perform Johansen Test for Cointegration"
   ]
  },
  {
   "cell_type": "code",
   "execution_count": 26,
   "metadata": {},
   "outputs": [],
   "source": [
    "# Perform Johansen test for cointegration\n",
    "#https://www.statsmodels.org/dev/generated/statsmodels.tsa.vector_ar.vecm.JohansenTestResult.html#statsmodels.tsa.vector_ar.vecm.JohansenTestResult\n",
    "#df1.loc['2014-01-01':'2016-02-01']\n",
    "y = pd.concat((df1['EWC'], df1[\"EWA\"]), axis=1)\n",
    "result = coint_johansen(y,0,1)"
   ]
  },
  {
   "cell_type": "code",
   "execution_count": 27,
   "metadata": {},
   "outputs": [
    {
     "name": "stdout",
     "output_type": "stream",
     "text": [
      "--------------------------------------------------\n",
      "--> Trace Statistics\n",
      "variable statistic Crit-90% Crit-95%  Crit-99%\n",
      "r = 0 \t 8.0373 13.4294 15.4943 19.9349\n",
      "r = 1 \t 2.6104 2.7055 3.8415 6.6349\n",
      "--------------------------------------------------\n",
      "--> Eigen Statistics\n",
      "variable statistic Crit-90% Crit-95%  Crit-99%\n",
      "r = 0 \t 5.427 12.2971 14.2639 18.52\n",
      "r = 1 \t 2.6104 2.7055 3.8415 6.6349\n",
      "--------------------------------------------------\n",
      "eigenvalues:\n",
      " [0.01079523 0.00520717]\n",
      "--------------------------------------------------\n",
      "eigenvectors:\n",
      " [[ 1.50264459 -0.43381193]\n",
      " [-0.60498435  0.91490935]]\n",
      "--------------------------------------------------\n",
      "Best eigenvector is: [ 1.50264459 -0.60498435].\n"
     ]
    }
   ],
   "source": [
    "# Present Johansen test results\n",
    "summarise_johansen(result)"
   ]
  },
  {
   "cell_type": "markdown",
   "metadata": {},
   "source": [
    "### Add ETF IGE Natural Resource Stocks to the Portfolio"
   ]
  },
  {
   "cell_type": "code",
   "execution_count": 28,
   "metadata": {},
   "outputs": [],
   "source": [
    "# Perform Johansen test for cointegration\n",
    "y = pd.concat((df['EWC'], df[\"EWA\"], df[\"IGE\"]), axis=1)\n",
    "start_date = '2006-04-04'\n",
    "end_date = '2022-06-20'\n",
    "y = y.loc[start_date:end_date]\n",
    "\n",
    "result3 = coint_johansen(y,0,1)"
   ]
  },
  {
   "cell_type": "code",
   "execution_count": 29,
   "metadata": {},
   "outputs": [
    {
     "name": "stdout",
     "output_type": "stream",
     "text": [
      "--------------------------------------------------\n",
      "--> Trace Statistics\n",
      "variable statistic Crit-90% Crit-95%  Crit-99%\n",
      "r = 0 \t 17.3723 27.0669 29.7961 35.4628\n",
      "r = 1 \t 8.6628 13.4294 15.4943 19.9349\n",
      "r = 2 \t 3.588 2.7055 3.8415 6.6349\n",
      "--------------------------------------------------\n",
      "--> Eigen Statistics\n",
      "variable statistic Crit-90% Crit-95%  Crit-99%\n",
      "r = 0 \t 8.7095 18.8928 21.1314 25.865\n",
      "r = 1 \t 5.0748 12.2971 14.2639 18.52\n",
      "r = 2 \t 3.588 2.7055 3.8415 6.6349\n",
      "--------------------------------------------------\n",
      "eigenvalues:\n",
      " [0.01726821 0.01009833 0.00715027]\n",
      "--------------------------------------------------\n",
      "eigenvectors:\n",
      " [[ 2.49900061  0.16015324  0.11692061]\n",
      " [-0.40472578 -1.00106789 -0.21164941]\n",
      " [-0.93676655  0.54527364 -0.46320724]]\n",
      "--------------------------------------------------\n",
      "Best eigenvector is: [ 2.49900061 -0.40472578 -0.93676655].\n"
     ]
    }
   ],
   "source": [
    "# Present Johansen test results\n",
    "summarise_johansen(result3)"
   ]
  },
  {
   "cell_type": "markdown",
   "metadata": {},
   "source": [
    "### Create Portfolio of 3 Assets and Calculate Half-Life for Mean Reversion"
   ]
  },
  {
   "cell_type": "code",
   "execution_count": 30,
   "metadata": {},
   "outputs": [],
   "source": [
    "# Take the best eigenvector for shortest half-life of mean reversion used for portfolio\n",
    "w = result3.evec[:, 0]\n",
    "yport = pd.DataFrame.sum(w*y, axis=1)"
   ]
  },
  {
   "cell_type": "code",
   "execution_count": 31,
   "metadata": {},
   "outputs": [
    {
     "name": "stdout",
     "output_type": "stream",
     "text": [
      "Half-live of mean reversion is 22 days.\n"
     ]
    },
    {
     "name": "stderr",
     "output_type": "stream",
     "text": [
      "/var/folders/5x/ss25h_1d7gx8x1l72y701s5h0000gp/T/ipykernel_68159/2913385088.py:10: FutureWarning: `rcond` parameter will change to the default of machine precision times ``max(M, N)`` where M and N are the input matrix dimensions.\n",
      "To use the future default and silence this warning we advise to pass `rcond=None`, to keep using the old, explicitly pass `rcond=-1`.\n",
      "  beta = np.linalg.lstsq(lag_ts, delta_ts)\n"
     ]
    }
   ],
   "source": [
    "# calculate the delta for each observation. \n",
    "# delta = p(t) - p(t-1)\n",
    "delta_ts = np.diff(yport)\n",
    "# calculate the vector of lagged prices. lag = 1\n",
    "# stack up a vector of ones and transpose\n",
    "lag_ts = np.vstack([yport[1:], np.ones(len(yport[1:]))]).T\n",
    "\n",
    "# calculate the slope (beta) of the deltas vs the lagged values \n",
    "#https://docs.scipy.org/doc/numpy/reference/generated/numpy.linalg.lstsq.html\n",
    "beta = np.linalg.lstsq(lag_ts, delta_ts)\n",
    "\n",
    "# compute half life\n",
    "half_life = np.log(2) / beta[0]\n",
    "print(f'Half-live of mean reversion is {int(half_life[0])} days.')"
   ]
  },
  {
   "cell_type": "code",
   "execution_count": 17,
   "metadata": {},
   "outputs": [],
   "source": [
    "lookback = int(half_life[0])\n",
    "\n",
    "moving_mean = yport.rolling(lookback).mean()\n",
    "moving_std = yport.rolling(lookback).std()\n",
    "z_score = (yport - moving_mean) / moving_std\n",
    "numunits = pd.DataFrame(z_score * -1, columns=['numunits'])"
   ]
  },
  {
   "cell_type": "markdown",
   "metadata": {},
   "source": [
    "### Backtest a Linear Mean-Reverting Strategy on the 3 Asset Portfolio"
   ]
  },
  {
   "cell_type": "code",
   "execution_count": 18,
   "metadata": {},
   "outputs": [
    {
     "data": {
      "image/png": "[encoded data removed]",
      "text/plain": [
       "<Figure size 432x288 with 1 Axes>"
      ]
     },
     "metadata": {
      "needs_background": "light"
     },
     "output_type": "display_data"
    },
    {
     "name": "stdout",
     "output_type": "stream",
     "text": [
      "Strategy APR = rtn    12.328548\n",
      "Name: 2012-04-05 00:00:00, dtype: float64\n",
      "Sharpe Ratio = rtn    1.562151\n",
      "dtype: float64\n"
     ]
    }
   ],
   "source": [
    "# LINEAR STRATEGY\n",
    "# A linear trading strategy means that the number of units or shares of a\n",
    "# unit portfolio we own is proportional to the negative z-score of the\n",
    "# price series of that portfolio.\n",
    "lookback = int(half_life[0])\n",
    "\n",
    "moving_mean = yport.rolling(lookback).mean()\n",
    "moving_std = yport.rolling(lookback).std()\n",
    "z_score = (yport - moving_mean) / moving_std\n",
    "numunits = pd.DataFrame(z_score * -1, columns=['numunits'])\n",
    "#print(z_score.tail(10))\n",
    "#print(numunits.tail(10))\n",
    "\n",
    "AA = repmat(numunits,1,3)\n",
    "BB = np.multiply(repmat(w,len(y),1),y)\n",
    "position = pd.DataFrame(np.multiply(AA, BB))\n",
    "#print(position.tail(10))\n",
    "\n",
    "pnl = np.sum(np.divide(np.multiply(position[20:-1],np.diff(y[20:],axis = 0)), y[20:-1]),1)\n",
    "#print(pnl.tail(10))\n",
    "\n",
    "# gross market value of portfolio\n",
    "mrk_val = pd.DataFrame.sum(abs(position), axis=1)\n",
    "\n",
    "# return is P&L divided by gross market value of portfolio\n",
    "rtn = np.cumsum(pd.DataFrame(pnl/mrk_val, columns=['rtn']))\n",
    "\n",
    "#print(rtn.iloc[-2])\n",
    "plt.plot(rtn[20:])\n",
    "plt.show()\n",
    "\n",
    "r_daily = pd.DataFrame(pnl/mrk_val, columns=['rtn'])[20:-1]\n",
    "ts = r_daily.index.max()-r_daily.index.min()\n",
    "r = rtn.iloc[-2]/ts.days*365\n",
    "\n",
    "print(f'Strategy APR = {r*100}')\n",
    "print(f'Sharpe Ratio = {r_daily.mean() / r_daily.std() * np.sqrt(252)}')"
   ]
  },
  {
   "cell_type": "markdown",
   "metadata": {},
   "source": [
    "### Update Results to 2020 Using the Same Mean Reversion Half-Life"
   ]
  },
  {
   "cell_type": "code",
   "execution_count": 20,
   "metadata": {},
   "outputs": [
    {
     "data": {
      "image/png": "[encoded data removed]",
      "text/plain": [
       "<Figure size 432x288 with 1 Axes>"
      ]
     },
     "metadata": {
      "needs_background": "light"
     },
     "output_type": "display_data"
    },
    {
     "name": "stdout",
     "output_type": "stream",
     "text": [
      "Strategy APR = rtn    7.442182\n",
      "Name: 2022-06-16 00:00:00, dtype: float64\n",
      "Sharpe Ratio = rtn    1.172986\n",
      "dtype: float64\n"
     ]
    }
   ],
   "source": [
    "y = pd.concat((df['EWC'], df[\"EWA\"], df[\"IGE\"]), axis=1)\n",
    "start_date = '2006-04-04'\n",
    "end_date = '2022-06-20'\n",
    "y = y.loc[start_date:end_date]\n",
    "\n",
    "w = result3.evec[:, 0] #eigenvectors from earlier\n",
    "yport = pd.DataFrame.sum(w*y, axis=1)\n",
    "\n",
    "# LINEAR STRATEGY\n",
    "moving_mean = yport.rolling(lookback).mean()\n",
    "moving_std = yport.rolling(lookback).std()\n",
    "z_score = (yport - moving_mean) / moving_std\n",
    "numunits = pd.DataFrame(z_score * -1, columns=['numunits'])\n",
    "#print(z_score.tail(10))\n",
    "#print(numunits.tail(10))\n",
    "\n",
    "AA = repmat(numunits,1,3)\n",
    "BB = np.multiply(repmat(w,len(y),1),y)\n",
    "position = pd.DataFrame(np.multiply(AA, BB))\n",
    "\n",
    "pnl = np.sum(np.divide(np.multiply(position[20:-1],np.diff(y[20:],axis = 0)), y[20:-1]),1)\n",
    "\n",
    "# gross market value of portfolio\n",
    "mrk_val = pd.DataFrame.sum(abs(position), axis=1)\n",
    "\n",
    "# return is P&L divided by gross market value of portfolio\n",
    "rtn = np.cumsum(pd.DataFrame(pnl/mrk_val, columns=['rtn']))\n",
    "#print(rtn.iloc[-2])\n",
    "\n",
    "plt.plot(rtn[25:])\n",
    "plt.show()\n",
    "\n",
    "r_daily = pd.DataFrame(pnl/mrk_val, columns=['rtn'])[20:-1]\n",
    "ts = r_daily.index.max()-r_daily.index.min()\n",
    "r = rtn.iloc[-2]/ts.days*365\n",
    "\n",
    "print(f'Strategy APR = {r*100}')\n",
    "print(f'Sharpe Ratio = {r_daily.mean() / r_daily.std() * np.sqrt(252)}')"
   ]
  },
  {
   "cell_type": "code",
   "execution_count": null,
   "metadata": {},
   "outputs": [],
   "source": []
  },
  {
   "cell_type": "code",
   "execution_count": 21,
   "metadata": {},
   "outputs": [
    {
     "name": "stdout",
     "output_type": "stream",
     "text": [
      "Hurst(GBM):   0.4986132492370343\n",
      "Hurst(MR):    -0.00015240066062418425\n",
      "Hurst(TR):    0.9527910653078778\n",
      "Hurst(Residuals):  nan\n"
     ]
    },
    {
     "name": "stderr",
     "output_type": "stream",
     "text": [
      "/var/folders/5x/ss25h_1d7gx8x1l72y701s5h0000gp/T/ipykernel_65263/2030518389.py:15: RuntimeWarning: divide by zero encountered in log\n",
      "  poly = polyfit(log(lags), log(tau), 1)\n"
     ]
    }
   ],
   "source": [
    "# Hurst exponent test \n",
    "\n",
    "from numpy import cumsum, log, polyfit, sqrt, std, subtract\n",
    "from numpy.random import randn\n",
    "\n",
    "def hurst(ts):\n",
    "    \"\"\"Returns the Hurst Exponent of the time series vector ts\"\"\"\n",
    "    # Create the range of lag values\n",
    "    lags = range(2, 100)\n",
    "\n",
    "    # Calculate the array of the variances of the lagged differences\n",
    "    tau = [sqrt(std(subtract(ts[lag:], ts[:-lag]))) for lag in lags]\n",
    "\n",
    "    # Use a linear fit to estimate the Hurst Exponent\n",
    "    poly = polyfit(log(lags), log(tau), 1)\n",
    "\n",
    "    # Return the Hurst exponent from the polyfit output\n",
    "    return poly[0]*2.0\n",
    "\n",
    "# Create a Gometric Brownian Motion, Mean-Reverting and Trending Series\n",
    "gbm = log(cumsum(randn(100000))+1000)\n",
    "mr = log(randn(100000)+1000)\n",
    "tr = log(cumsum(randn(100000)+1)+1000)\n",
    "\n",
    "# Output the Hurst Exponent for each of the above series\n",
    "# and the price of Google (the Adjusted Close price) for \n",
    "# the ADF test given above in the article\n",
    "print(\"Hurst(GBM):   {}\".format(hurst(gbm)))\n",
    "print(\"Hurst(MR):    {}\".format(hurst(mr)))\n",
    "print(\"Hurst(TR):    {}\".format(hurst(tr)))\n",
    "\n",
    "# Assuming you have run the above code to obtain 'goog'!\n",
    "print (\"Hurst(Residuals):  {}\".format(hurst(df1['RES'])))"
   ]
  },
  {
   "cell_type": "code",
   "execution_count": null,
   "metadata": {},
   "outputs": [],
   "source": []
  },
  {
   "cell_type": "code",
   "execution_count": null,
   "metadata": {},
   "outputs": [],
   "source": []
  },
  {
   "cell_type": "code",
   "execution_count": null,
   "metadata": {},
   "outputs": [],
   "source": []
  }
 ],
 "metadata": {
  "kernelspec": {
   "display_name": "Python 3 (ipykernel)",
   "language": "python",
   "name": "python3"
  },
  "language_info": {
   "codemirror_mode": {
    "name": "ipython",
    "version": 3
   },
   "file_extension": ".py",
   "mimetype": "text/x-python",
   "name": "python",
   "nbconvert_exporter": "python",
   "pygments_lexer": "ipython3",
   "version": "3.10.4"
  }
 },
 "nbformat": 4,
 "nbformat_minor": 4
}
